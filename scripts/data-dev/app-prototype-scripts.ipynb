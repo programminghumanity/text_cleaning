{
 "cells": [
  {
   "cell_type": "code",
   "execution_count": 2,
   "metadata": {},
   "outputs": [
    {
     "name": "stdout",
     "output_type": "stream",
     "text": [
      "201\n",
      "ENVIRONMENTAL CODEthroughout the implementation phase of the projects referred to it, up to the receipt of equipment and works.€€€€€€€This Commission advises the competent authorities and any developer, at their request, on any question relating todialogue with the public throughout the development of the project.€€€€€€€The National Public Debate Commission is also entrusted with the role of issuing all and any opinions andrecommendations of a general or methodological nature likely to encourage\n"
     ]
    }
   ],
   "source": [
    "import PyPDF2\n",
    "#text = textract.process(\"sample_pdf_french_law.pdf\")\n",
    "\n",
    "pdfFileObj = open('sample_pdf_french_law.pdf', 'rb')\n",
    "# read object\n",
    "\n",
    "pdfReader = PyPDF2.PdfFileReader(pdfFileObj)\n",
    "\n",
    "# print number of pages\n",
    "print(pdfReader.numPages)\n",
    "\n",
    "pageObj = pdfReader.getPage(1)\n",
    "print(pageObj.extractText()[0:500])"
   ]
  },
  {
   "cell_type": "markdown",
   "metadata": {},
   "source": [
    "## Remove digits"
   ]
  },
  {
   "cell_type": "code",
   "execution_count": 11,
   "metadata": {},
   "outputs": [
    {
     "name": "stdout",
     "output_type": "stream",
     "text": [
      "dffh  ds  dfs\n"
     ]
    }
   ],
   "source": [
    "from string import digits \n",
    "    \n",
    "remove_digits = str.maketrans('', '', digits) \n",
    "res = some_text.translate(remove_digits) \n",
    "  \n",
    "print(res)"
   ]
  },
  {
   "cell_type": "markdown",
   "metadata": {},
   "source": [
    "## Remove URLs"
   ]
  },
  {
   "cell_type": "code",
   "execution_count": 34,
   "metadata": {},
   "outputs": [],
   "source": [
    "import re \n",
    "def remove_URL(sample):\n",
    "    \"\"\"Remove URLs from a sample string\"\"\"\n",
    "    string = re.sub(r\"http\\S+\", \"\", sample)\n",
    "    string = re.sub(r\"www.\\S+\", \"\", string)\n",
    "    return string\n"
   ]
  },
  {
   "cell_type": "code",
   "execution_count": 35,
   "metadata": {},
   "outputs": [],
   "source": [
    "try1 = \"www.facebook.com\"\n",
    "try2 = \"http://facebook.com\"\n",
    "try3 = \"https://facebook.com\"\n",
    "try4 = \"twitter.com\""
   ]
  },
  {
   "cell_type": "code",
   "execution_count": 38,
   "metadata": {},
   "outputs": [
    {
     "data": {
      "text/plain": [
       "''"
      ]
     },
     "execution_count": 38,
     "metadata": {},
     "output_type": "execute_result"
    }
   ],
   "source": [
    "remove_URL(try1)"
   ]
  },
  {
   "cell_type": "markdown",
   "metadata": {},
   "source": [
    "## Strip white spaces"
   ]
  },
  {
   "cell_type": "code",
   "execution_count": 14,
   "metadata": {},
   "outputs": [
    {
     "name": "stdout",
     "output_type": "stream",
     "text": [
      "String ='  abc  hahaha '\n",
      "After Removing Leading Whitespaces String ='abc  hahaha '\n",
      "After Removing Trailing Whitespaces String ='  abc  hahaha'\n",
      "After Trimming Whitespaces String ='abc  hahaha'\n"
     ]
    }
   ],
   "source": [
    "s1 = '  abc  hahaha '\n",
    "\n",
    "print(f'String =\\'{s1}\\'')\n",
    "\n",
    "print(f'After Removing Leading Whitespaces String =\\'{s1.lstrip()}\\'')\n",
    "\n",
    "print(f'After Removing Trailing Whitespaces String =\\'{s1.rstrip()}\\'')\n",
    "\n",
    "print(f'After Trimming Whitespaces String =\\'{s1.strip()}\\'')"
   ]
  },
  {
   "cell_type": "markdown",
   "metadata": {},
   "source": [
    "## Remove stopwords"
   ]
  },
  {
   "cell_type": "code",
   "execution_count": null,
   "metadata": {},
   "outputs": [],
   "source": []
  }
 ],
 "metadata": {
  "kernelspec": {
   "display_name": "sage",
   "language": "python",
   "name": "sage"
  },
  "language_info": {
   "codemirror_mode": {
    "name": "ipython",
    "version": 3
   },
   "file_extension": ".py",
   "mimetype": "text/x-python",
   "name": "python",
   "nbconvert_exporter": "python",
   "pygments_lexer": "ipython3",
   "version": "3.7.7"
  }
 },
 "nbformat": 4,
 "nbformat_minor": 2
}
