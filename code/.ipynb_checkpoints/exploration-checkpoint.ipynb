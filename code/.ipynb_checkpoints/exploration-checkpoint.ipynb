{
 "cells": [
  {
   "cell_type": "markdown",
   "metadata": {},
   "source": [
    "# Text cleaning\n",
    "\n",
    "Aim is to try different scripts and libraries to clean text of various formats. \n",
    "\n",
    "**Don't forget to install the modules in requirements.txt**"
   ]
  },
  {
   "cell_type": "markdown",
   "metadata": {},
   "source": [
    "## PDF\n",
    "\n",
    "Code_40.pdf is the French environmental code.\n",
    "* PDF format\n",
    "* Just text but very structured, no tables or weird formatting\n",
    "* Will try to extract the text and categories based on the titles and headings\n",
    "* Would be interesting to merge the pdfs?"
   ]
  },
  {
   "cell_type": "markdown",
   "metadata": {},
   "source": [
    "### With PDFminer"
   ]
  },
  {
   "cell_type": "code",
   "execution_count": null,
   "metadata": {},
   "outputs": [],
   "source": [
    "import pdfminer\n",
    "\n",
    "import pdfminer\n",
    "\n",
    "from pdfminer.pdfinterp import PDFResourceManager, PDFPageInterpreter\n",
    "from pdfminer.converter import TextConverter\n",
    "from pdfminer.layout import LAParams\n",
    "from pdfminer.pdfpage import PDFPage\n",
    "from io import StringIO\n",
    "\n",
    "def convert_pdf_to_txt(path):\n",
    "    rsrcmgr = PDFResourceManager()\n",
    "    retstr = StringIO()\n",
    "    codec = 'utf-8'\n",
    "    laparams = LAParams()\n",
    "    device = TextConverter(rsrcmgr, retstr, laparams=laparams)\n",
    "    fp = open(path, 'rb')\n",
    "    interpreter = PDFPageInterpreter(rsrcmgr, device)\n",
    "    password = \"\"\n",
    "    maxpages = 0\n",
    "    caching = True\n",
    "    pagenos=set()\n",
    "\n",
    "    for page in PDFPage.get_pages(fp, pagenos, maxpages=maxpages, password=password,caching=caching, check_extractable=True):\n",
    "        interpreter.process_page(page)\n",
    "\n",
    "    text = retstr.getvalue()\n",
    "\n",
    "    fp.close()\n",
    "    device.close()\n",
    "    retstr.close()\n",
    "    return text"
   ]
  },
  {
   "cell_type": "markdown",
   "metadata": {},
   "source": [
    "### With PyPDF2"
   ]
  },
  {
   "cell_type": "code",
   "execution_count": 18,
   "metadata": {},
   "outputs": [
    {
     "name": "stdout",
     "output_type": "stream",
     "text": [
      "201\n",
      "ENVIRONMENTAL CODEthroughout the implementation phase of the projects referred to it, up to the receipt of equipment and works.€€€€€€€This Commission advises the competent authorities and any developer, at their request, on any question relating todialogue with the public throughout the development of the project.€€€€€€€The National Public Debate Commission is also entrusted with the role of issuing all and any opinions andrecommendations of a general or methodological nature likely to encourage and develop dialogue with the public.€€€€€€€The National Public Debate Commission and individual commissions do not comment on the substance of theprojects submitted to them.Article L121-2(Act no. 2002-276 of 27 February 2002 Article 134 Official Journal of 28 February 2002)€€€€€€€The provisions of the present Chapter are not applicable to town-planning documents and planning operationsprovided for by Book III of the Code de l'urbanisme. However, they may apply to certain investment projects of which thelist is set by a Conseil d'Etat decree.€€€€€€€When the public debate is organised under the conditions provided by this Chapter, the provisions of Article L.300-2 of the Code de l'urbanisme are not applicable.                        SECTION II                        Composition and operation of the National Public Debate CommissionArticles L121-3 toL121-7Article L121-3(Act no. 2002-276 of 27 February 2002 Article 134 Official Journal of 28 February 2002)€€€€€€€The National Public Debate Commission is composed of twenty-one members appointed for five years or for theduration of their term in office. Besides its President and two Vice Presidents, it comprises:€€€€€€€1° One Member of Parliament and one Senator appointed respectively by the President of the National Assemblyand by the President of the Senate;€€€€€€€2° Six local councillors appointed by decree following a proposal by the associations representing the councillorsconcerned;€€€€€€€3° One member of the Conseil d'Etat, elected by the General Assembly of the Conseil d'Etat;€€€€€€€4° One member of the Cour de cassation, elected by the General Assembly of the Cour de cassation;€€€€€€€5° One member of the Cour des comptes, elected by the General Assembly of the Cour des comptes;€€€€€€€6° One member from the body of members of the administrative courts and the administrative appellate courts,appointed by decree following a proposal by the Higher Council of administrative courts and administrative appellatecourts;€€€€€€€7° Two representatives of associations for the protection of the environment as approved under Article L. 141-1,exercising their activity on the French national territory as a whole, appointed by decree by the Prime Minister followinga proposal by the Minister for the Environment;€€€€€€€8° Two representatives of consumers and users, appointed respectively by decree by the Prime Minister following aproposal by the Minister for the Economy and by the Minister for Transport;€€€€€€€9° Two qualified persons, one of whom has exercised functions as a commissaire enquêteur, respectively appointedby decree by the Prime Minister following a proposal by the Minister for Industry and the Minister for Town and CountryDevelopment.€€€€€€€The President and Vice-Presidents are appointed by decree.€€€€€€€The term of office of the members is renewable once.€€€€€€€The President and Vice-Presidents exercise their functions on a full time basis and receive remuneration.€€€€€€€The functions of other members allow them to receive an allowance.Article L121-4(Act no. 2002-276 of 27 February 2002 Article 134 Official Journal of 28 February 2002)€€€€€€€The Commission may benefit from serving civil servants put at its disposal. It may recruit contractual agents foroperational needs.Article L121-5(Act no. 2002-276 of 27 February 2002 Article 134 Official Journal of 28 February 2002)€€€€€€€Members of the National Commission and the individual commissions may not participate in a debate or dialogueprocedure relating to an operation if they have a personal interest in this operation or have functions preventing themfrom doing so.Article L121-6(Inserted by Act no. 2002-276 of 27 February 2002 Article 134 Official Journal of 28 February 2002)€€€€€€€The budget required for the running of the National Public Debate Commission is included in the general Statebudget following a proposal by the Prime Minister. The President of the Commission authorises expenditure. He/she hasauthority regarding services.€€€€€€€The provisions of the Law of 10 August 1922 relating to the organisation of the control of expenses do not apply tothe expenditure of the Commission.Article L121-7(Inserted by Act no. 2002-276 of 27 February 2002 Article 134 Official Journal of 28 February 2002)Updated 04/10/2006 - Page 2/201\n"
     ]
    }
   ],
   "source": [
    "import PyPDF2\n",
    "#text = textract.process(\"code/Code_40.pdf\")\n",
    "\n",
    "pdfFileObj = open('code/Code_40.pdf', 'rb')\n",
    "# read object\n",
    "\n",
    "pdfReader = PyPDF2.PdfFileReader(pdfFileObj)\n",
    "\n",
    "# print number of pages\n",
    "print(pdfReader.numPages)\n",
    "\n",
    "pageObj = pdfReader.getPage(1)\n",
    "print(pageObj.extractText())\n"
   ]
  },
  {
   "cell_type": "markdown",
   "metadata": {},
   "source": [
    "**Structure of the document:**\n",
    "\n",
    "* \\n for line breaks\n",
    "* Each BOOK starts like this: BOOK I\\nCommon provisions\\n\\nArticles L121-1 to\\nL110-2\\n\\n\n",
    "* ENVIRONMENTAL CODE on top left of each page"
   ]
  },
  {
   "cell_type": "markdown",
   "metadata": {},
   "source": [
    "## JSON"
   ]
  },
  {
   "cell_type": "code",
   "execution_count": 45,
   "metadata": {},
   "outputs": [],
   "source": [
    "import requests\n",
    "\n",
    "response = requests.get(\"http://lda.data.parliament.uk/lordswrittenquestions.json?_view=Written+Questions&_pageSize=500&_page=0\")"
   ]
  },
  {
   "cell_type": "code",
   "execution_count": 106,
   "metadata": {
    "scrolled": true
   },
   "outputs": [],
   "source": [
    "import pandas as pd\n",
    "\n",
    "def get_text(response):\n",
    "    \n",
    "    response_json = json.loads(response.text)['result']['items']\n",
    "    df = pd.DataFrame({'AnswerDate': [response_json[i]['AnswerDate']['_value'] for i in range(len(response_json))],\n",
    "                       'AnsweringBody': [response_json[i]['AnsweringBody'][0]['_value'] for i in range(len(response_json))],\n",
    "                       'questionText': [response_json[i]['questionText'] for i in range(len(response_json))],\n",
    "                       'tablingMember': [response_json[i]['tablingMemberPrinted'][0]['_value'] for i in range(len(response_json))]})\n",
    "    \n",
    "    return df\n"
   ]
  },
  {
   "cell_type": "code",
   "execution_count": 107,
   "metadata": {},
   "outputs": [
    {
     "data": {
      "text/html": [
       "<div>\n",
       "<style scoped>\n",
       "    .dataframe tbody tr th:only-of-type {\n",
       "        vertical-align: middle;\n",
       "    }\n",
       "\n",
       "    .dataframe tbody tr th {\n",
       "        vertical-align: top;\n",
       "    }\n",
       "\n",
       "    .dataframe thead th {\n",
       "        text-align: right;\n",
       "    }\n",
       "</style>\n",
       "<table border=\"1\" class=\"dataframe\">\n",
       "  <thead>\n",
       "    <tr style=\"text-align: right;\">\n",
       "      <th></th>\n",
       "      <th>AnswerDate</th>\n",
       "      <th>AnsweringBody</th>\n",
       "      <th>questionText</th>\n",
       "      <th>tablingMember</th>\n",
       "    </tr>\n",
       "  </thead>\n",
       "  <tbody>\n",
       "    <tr>\n",
       "      <th>0</th>\n",
       "      <td>2020-06-24</td>\n",
       "      <td>Department for Business, Energy and Industrial...</td>\n",
       "      <td>Her Majesty's Government whether they have any...</td>\n",
       "      <td>Lord Birt</td>\n",
       "    </tr>\n",
       "    <tr>\n",
       "      <th>1</th>\n",
       "      <td>2020-06-24</td>\n",
       "      <td>Department for Digital, Culture, Media and Sport</td>\n",
       "      <td>Her Majesty's Government what assessment they ...</td>\n",
       "      <td>Lord Clement-Jones</td>\n",
       "    </tr>\n",
       "    <tr>\n",
       "      <th>2</th>\n",
       "      <td>2020-06-24</td>\n",
       "      <td>Department for Digital, Culture, Media and Sport</td>\n",
       "      <td>Her Majesty's Government what proportion of th...</td>\n",
       "      <td>Lord Clement-Jones</td>\n",
       "    </tr>\n",
       "    <tr>\n",
       "      <th>3</th>\n",
       "      <td>2020-06-24</td>\n",
       "      <td>Department for Digital, Culture, Media and Sport</td>\n",
       "      <td>Her Majesty's Government what metrics they are...</td>\n",
       "      <td>Lord Clement-Jones</td>\n",
       "    </tr>\n",
       "    <tr>\n",
       "      <th>4</th>\n",
       "      <td>2020-06-24</td>\n",
       "      <td>Department for Digital, Culture, Media and Sport</td>\n",
       "      <td>Her Majesty's Government what assessment they ...</td>\n",
       "      <td>Lord Clement-Jones</td>\n",
       "    </tr>\n",
       "    <tr>\n",
       "      <th>...</th>\n",
       "      <td>...</td>\n",
       "      <td>...</td>\n",
       "      <td>...</td>\n",
       "      <td>...</td>\n",
       "    </tr>\n",
       "    <tr>\n",
       "      <th>495</th>\n",
       "      <td>2020-06-16</td>\n",
       "      <td>Department of Health and Social Care</td>\n",
       "      <td>Her Majesty's Government, further to the Writt...</td>\n",
       "      <td>Lord Harris of Haringey</td>\n",
       "    </tr>\n",
       "    <tr>\n",
       "      <th>496</th>\n",
       "      <td>2020-06-16</td>\n",
       "      <td>Home Office</td>\n",
       "      <td>Her Majesty's Government when they plan to iss...</td>\n",
       "      <td>Baroness Hodgson of Abinger</td>\n",
       "    </tr>\n",
       "    <tr>\n",
       "      <th>497</th>\n",
       "      <td>2020-06-16</td>\n",
       "      <td>Home Office</td>\n",
       "      <td>Her Majesty's Government whether the rule that...</td>\n",
       "      <td>Baroness Hodgson of Abinger</td>\n",
       "    </tr>\n",
       "    <tr>\n",
       "      <th>498</th>\n",
       "      <td>2020-06-16</td>\n",
       "      <td>Attorney General</td>\n",
       "      <td>Her Majesty's Government when the Attorney Gen...</td>\n",
       "      <td>Lord Hodgson of Astley Abbotts</td>\n",
       "    </tr>\n",
       "    <tr>\n",
       "      <th>499</th>\n",
       "      <td>2020-06-16</td>\n",
       "      <td>Department for Transport</td>\n",
       "      <td>Her Majesty's Government, following the reduct...</td>\n",
       "      <td>Baroness Jolly</td>\n",
       "    </tr>\n",
       "  </tbody>\n",
       "</table>\n",
       "<p>500 rows × 4 columns</p>\n",
       "</div>"
      ],
      "text/plain": [
       "     AnswerDate                                      AnsweringBody  \\\n",
       "0    2020-06-24  Department for Business, Energy and Industrial...   \n",
       "1    2020-06-24   Department for Digital, Culture, Media and Sport   \n",
       "2    2020-06-24   Department for Digital, Culture, Media and Sport   \n",
       "3    2020-06-24   Department for Digital, Culture, Media and Sport   \n",
       "4    2020-06-24   Department for Digital, Culture, Media and Sport   \n",
       "..          ...                                                ...   \n",
       "495  2020-06-16               Department of Health and Social Care   \n",
       "496  2020-06-16                                        Home Office   \n",
       "497  2020-06-16                                        Home Office   \n",
       "498  2020-06-16                                   Attorney General   \n",
       "499  2020-06-16                           Department for Transport   \n",
       "\n",
       "                                          questionText  \\\n",
       "0    Her Majesty's Government whether they have any...   \n",
       "1    Her Majesty's Government what assessment they ...   \n",
       "2    Her Majesty's Government what proportion of th...   \n",
       "3    Her Majesty's Government what metrics they are...   \n",
       "4    Her Majesty's Government what assessment they ...   \n",
       "..                                                 ...   \n",
       "495  Her Majesty's Government, further to the Writt...   \n",
       "496  Her Majesty's Government when they plan to iss...   \n",
       "497  Her Majesty's Government whether the rule that...   \n",
       "498  Her Majesty's Government when the Attorney Gen...   \n",
       "499  Her Majesty's Government, following the reduct...   \n",
       "\n",
       "                      tablingMember  \n",
       "0                         Lord Birt  \n",
       "1                Lord Clement-Jones  \n",
       "2                Lord Clement-Jones  \n",
       "3                Lord Clement-Jones  \n",
       "4                Lord Clement-Jones  \n",
       "..                              ...  \n",
       "495         Lord Harris of Haringey  \n",
       "496     Baroness Hodgson of Abinger  \n",
       "497     Baroness Hodgson of Abinger  \n",
       "498  Lord Hodgson of Astley Abbotts  \n",
       "499                  Baroness Jolly  \n",
       "\n",
       "[500 rows x 4 columns]"
      ]
     },
     "execution_count": 107,
     "metadata": {},
     "output_type": "execute_result"
    }
   ],
   "source": [
    "get_text(response)"
   ]
  },
  {
   "cell_type": "markdown",
   "metadata": {},
   "source": [
    "## HTML"
   ]
  },
  {
   "cell_type": "code",
   "execution_count": null,
   "metadata": {},
   "outputs": [],
   "source": []
  },
  {
   "cell_type": "markdown",
   "metadata": {},
   "source": [
    "## XML"
   ]
  },
  {
   "cell_type": "code",
   "execution_count": null,
   "metadata": {},
   "outputs": [],
   "source": []
  }
 ],
 "metadata": {
  "kernelspec": {
   "display_name": "sage",
   "language": "python",
   "name": "sage"
  },
  "language_info": {
   "codemirror_mode": {
    "name": "ipython",
    "version": 3
   },
   "file_extension": ".py",
   "mimetype": "text/x-python",
   "name": "python",
   "nbconvert_exporter": "python",
   "pygments_lexer": "ipython3",
   "version": "3.7.7"
  }
 },
 "nbformat": 4,
 "nbformat_minor": 2
}
